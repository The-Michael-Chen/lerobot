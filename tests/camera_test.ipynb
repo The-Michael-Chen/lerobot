{
 "cells": [
  {
   "cell_type": "code",
   "execution_count": 1,
   "metadata": {},
   "outputs": [
    {
     "name": "stderr",
     "output_type": "stream",
     "text": [
      "[ WARN:0@0.115] global cap_gstreamer.cpp:2839 handleMessage OpenCV | GStreamer warning: Embedded video playback halted; module source reported: Could not read from resource.\n",
      "[ WARN:0@0.116] global cap_gstreamer.cpp:1698 open OpenCV | GStreamer warning: unable to start pipeline\n",
      "[ WARN:0@0.116] global cap_gstreamer.cpp:1173 isPipelinePlaying OpenCV | GStreamer warning: GStreamer: pipeline have not been created\n",
      "[ WARN:0@0.134] global cap_gstreamer.cpp:2839 handleMessage OpenCV | GStreamer warning: Embedded video playback halted; module source reported: Could not read from resource.\n",
      "[ WARN:0@0.135] global cap_gstreamer.cpp:1698 open OpenCV | GStreamer warning: unable to start pipeline\n",
      "[ WARN:0@0.135] global cap_gstreamer.cpp:1173 isPipelinePlaying OpenCV | GStreamer warning: GStreamer: pipeline have not been created\n"
     ]
    },
    {
     "name": "stdout",
     "output_type": "stream",
     "text": [
      "(480, 640, 3)\n",
      "uint8\n"
     ]
    }
   ],
   "source": [
    "from lerobot.common.robot_devices.cameras.configs import OpenCVCameraConfig\n",
    "from lerobot.common.robot_devices.cameras.opencv import OpenCVCamera\n",
    "\n",
    "config = OpenCVCameraConfig(camera_index=0)\n",
    "camera = OpenCVCamera(config)\n",
    "camera.connect()\n",
    "color_image = camera.read()\n",
    "\n",
    "print(color_image.shape)\n",
    "print(color_image.dtype)"
   ]
  },
  {
   "cell_type": "code",
   "execution_count": 2,
   "metadata": {},
   "outputs": [],
   "source": [
    "camera.disconnect()"
   ]
  },
  {
   "cell_type": "code",
   "execution_count": null,
   "metadata": {},
   "outputs": [],
   "source": []
  }
 ],
 "metadata": {
  "kernelspec": {
   "display_name": "lerobot",
   "language": "python",
   "name": "python3"
  },
  "language_info": {
   "codemirror_mode": {
    "name": "ipython",
    "version": 3
   },
   "file_extension": ".py",
   "mimetype": "text/x-python",
   "name": "python",
   "nbconvert_exporter": "python",
   "pygments_lexer": "ipython3",
   "version": "3.10.13"
  }
 },
 "nbformat": 4,
 "nbformat_minor": 2
}
